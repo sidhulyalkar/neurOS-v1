{
  "cells": [
    {
      "cell_type": "markdown",
      "metadata": {},
      "source": [
        "# Constellation Demo Notebook\n",
        "\n",
        "This notebook demonstrates how to run the neurOS Constellation pipeline from Python.\n",
        "It ingests simulated multi‑modal data, stores it in cloud‑ready formats, exports features and launches a training job.\n",
        "\n",
        "Make sure you have installed the required dependencies with `pip install -e .[constellation]` and have a Kafka broker running on the specified host and port."
      ]
    },
    {
      "cell_type": "code",
      "execution_count": null,
      "metadata": {},
      "outputs": [],
      "source": [
        "import asyncio\n",
        "from neuros.cloud.pipeline_cloud import run_constellation_demo\n",
        "\n",
        "# Run the Constellation pipeline for a short duration\n",
        "await run_constellation_demo(\n",
        "    duration=5,\n",
        "    kafka_bootstrap=\"localhost:9092\",\n",
        "    topic_prefix=\"raw\",\n",
        "    subject_id=\"demo_subject\",\n",
        "    session_id=\"demo_session\",\n",
        "    output_base=\"/tmp/constellation_demo\",\n",
        "    fault_injection=False,\n",
        "    sagemaker_config=None,\n",
        ")\n",
        "\n",
        "print(\"Pipeline run complete\")"
      ]
    }
  ],
  "metadata": {
    "kernelspec": {
      "display_name": "Python 3",
      "name": "python3"
    },
    "language_info": {
      "name": "python",
      "version": "3.10"
    }
  },
  "nbformat": 4,
  "nbformat_minor": 5
}