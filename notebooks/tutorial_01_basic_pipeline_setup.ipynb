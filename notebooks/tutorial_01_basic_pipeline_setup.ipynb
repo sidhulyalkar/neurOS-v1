{
 "cells": [
  {
   "cell_type": "markdown",
   "metadata": {},
   "source": [
    "# Tutorial 1: Basic Pipeline Setup\n",
    "\n",
    "Welcome to NeurOS! This tutorial will guide you through creating your first real-time neural decoding pipeline.\n",
    "\n",
    "## What You'll Learn\n",
    "\n",
    "1. Installing and importing NeurOS\n",
    "2. Loading neural data\n",
    "3. Creating a simple classification pipeline\n",
    "4. Training a model\n",
    "5. Making predictions\n",
    "6. Evaluating results\n",
    "\n",
    "## Prerequisites\n",
    "\n",
    "- Python 3.9+\n",
    "- Basic understanding of neural data\n",
    "- Familiarity with NumPy and scikit-learn (helpful but not required)"
   ]
  },
  {
   "cell_type": "markdown",
   "metadata": {},
   "source": [
    "## 1. Installation and Setup\n",
    "\n",
    "First, let's make sure NeurOS is installed:"
   ]
  },
  {
   "cell_type": "code",
   "execution_count": null,
   "metadata": {},
   "outputs": [],
   "source": [
    "# Install NeurOS (if not already installed)\n",
    "# !pip install neuros\n",
    "\n",
    "# Or install from local source (for development)\n",
    "# !pip install -e ."
   ]
  },
  {
   "cell_type": "markdown",
   "metadata": {},
   "source": [
    "## 2. Import Libraries"
   ]
  },
  {
   "cell_type": "code",
   "execution_count": null,
   "metadata": {},
   "outputs": [],
   "source": [
    "import numpy as np\n",
    "import matplotlib.pyplot as plt\n",
    "from sklearn.metrics import accuracy_score, confusion_matrix, classification_report\n",
    "import seaborn as sns\n",
    "\n",
    "# NeurOS imports\n",
    "from neuros.pipeline import Pipeline\n",
    "from neuros.drivers.mock_driver import MockDriver\n",
    "from neuros.models.simple_classifier import SimpleClassifier\n",
    "from neuros.datasets.allen_loader import load_simulated_allen_data\n",
    "\n",
    "# Set random seed for reproducibility\n",
    "np.random.seed(42)\n",
    "\n",
    "print(\"✓ Imports successful!\")"
   ]
  },
  {
   "cell_type": "markdown",
   "metadata": {},
   "source": [
    "## 3. Load Simulated Neural Data\n",
    "\n",
    "We'll start with simulated EEG data representing a 2-class motor imagery task:\n",
    "- **Class 0**: Imagining left hand movement\n",
    "- **Class 1**: Imagining right hand movement"
   ]
  },
  {
   "cell_type": "code",
   "execution_count": null,
   "metadata": {},
   "outputs": [],
   "source": [
    "# Load simulated data\n",
    "data = load_simulated_allen_data(\n",
    "    n_samples=200,\n",
    "    n_neurons=32,\n",
    "    n_classes=2,\n",
    "    noise_level=0.3\n",
    ")\n",
    "\n",
    "# Extract features and labels\n",
    "X = data['features']  # Shape: (n_samples, n_features)\n",
    "y = data['labels']    # Shape: (n_samples,)\n",
    "\n",
    "print(f\"Dataset shape: {X.shape}\")\n",
    "print(f\"Number of classes: {len(np.unique(y))}\")\n",
    "print(f\"Class distribution: {np.bincount(y)}\")"
   ]
  },
  {
   "cell_type": "markdown",
   "metadata": {},
   "source": [
    "## 4. Visualize the Data\n",
    "\n",
    "Let's visualize some sample neural activity:"
   ]
  },
  {
   "cell_type": "code",
   "execution_count": null,
   "metadata": {},
   "outputs": [],
   "source": [
    "# Plot first 5 samples from each class\n",
    "fig, axes = plt.subplots(2, 5, figsize=(15, 6))\n",
    "fig.suptitle('Sample Neural Activity Patterns', fontsize=16)\n",
    "\n",
    "for class_idx in range(2):\n",
    "    class_samples = X[y == class_idx][:5]\n",
    "    for sample_idx in range(5):\n",
    "        ax = axes[class_idx, sample_idx]\n",
    "        \n",
    "        # Reshape to 2D for visualization (assuming time series)\n",
    "        sample = class_samples[sample_idx].reshape(32, -1)\n",
    "        \n",
    "        ax.imshow(sample, aspect='auto', cmap='RdBu_r')\n",
    "        ax.set_title(f'Class {class_idx}, Sample {sample_idx+1}')\n",
    "        ax.set_xlabel('Time')\n",
    "        ax.set_ylabel('Channel')\n",
    "        \n",
    "plt.tight_layout()\n",
    "plt.show()"
   ]
  },
  {
   "cell_type": "markdown",
   "metadata": {},
   "source": [
    "## 5. Split Data into Train and Test Sets"
   ]
  },
  {
   "cell_type": "code",
   "execution_count": null,
   "metadata": {},
   "outputs": [],
   "source": [
    "from sklearn.model_selection import train_test_split\n",
    "\n",
    "# 70% training, 30% testing\n",
    "X_train, X_test, y_train, y_test = train_test_split(\n",
    "    X, y, test_size=0.3, random_state=42, stratify=y\n",
    ")\n",
    "\n",
    "print(f\"Training set: {X_train.shape[0]} samples\")\n",
    "print(f\"Test set: {X_test.shape[0]} samples\")"
   ]
  },
  {
   "cell_type": "markdown",
   "metadata": {},
   "source": [
    "## 6. Create a NeurOS Pipeline\n",
    "\n",
    "A Pipeline in NeurOS consists of:\n",
    "- **Driver**: Handles data acquisition (real or simulated)\n",
    "- **Model**: Performs classification/regression\n",
    "- **Optional**: Preprocessing, feature extraction, etc."
   ]
  },
  {
   "cell_type": "code",
   "execution_count": null,
   "metadata": {},
   "outputs": [],
   "source": [
    "# Create driver (simulates real-time data acquisition)\n",
    "driver = MockDriver(\n",
    "    channels=32,\n",
    "    sampling_rate=250.0,  # 250 Hz\n",
    "    latency_ms=10.0\n",
    ")\n",
    "\n",
    "# Create classifier model\n",
    "model = SimpleClassifier(\n",
    "    model_type='svm',  # Support Vector Machine\n",
    "    n_classes=2\n",
    ")\n",
    "\n",
    "# Create pipeline\n",
    "pipeline = Pipeline(\n",
    "    driver=driver,\n",
    "    model=model\n",
    ")\n",
    "\n",
    "print(\"✓ Pipeline created successfully!\")\n",
    "print(f\"Driver: {driver.__class__.__name__}\")\n",
    "print(f\"Model: {model.__class__.__name__}\")"
   ]
  },
  {
   "cell_type": "markdown",
   "metadata": {},
   "source": [
    "## 7. Train the Model\n",
    "\n",
    "Now let's train our classifier on the training data:"
   ]
  },
  {
   "cell_type": "code",
   "execution_count": null,
   "metadata": {},
   "outputs": [],
   "source": [
    "# Train the pipeline\n",
    "print(\"Training model...\")\n",
    "pipeline.train(X_train, y_train)\n",
    "print(\"✓ Training complete!\")"
   ]
  },
  {
   "cell_type": "markdown",
   "metadata": {},
   "source": [
    "## 8. Make Predictions\n",
    "\n",
    "Test the trained model on unseen data:"
   ]
  },
  {
   "cell_type": "code",
   "execution_count": null,
   "metadata": {},
   "outputs": [],
   "source": [
    "# Make predictions on test set\n",
    "y_pred = pipeline.predict(X_test)\n",
    "\n",
    "print(f\"Predictions shape: {y_pred.shape}\")\n",
    "print(f\"First 10 predictions: {y_pred[:10]}\")\n",
    "print(f\"First 10 true labels: {y_test[:10]}\")"
   ]
  },
  {
   "cell_type": "markdown",
   "metadata": {},
   "source": [
    "## 9. Evaluate Performance\n",
    "\n",
    "Let's assess how well our model performs:"
   ]
  },
  {
   "cell_type": "code",
   "execution_count": null,
   "metadata": {},
   "outputs": [],
   "source": [
    "# Calculate accuracy\n",
    "accuracy = accuracy_score(y_test, y_pred)\n",
    "print(f\"Test Accuracy: {accuracy:.2%}\")\n",
    "\n",
    "# Detailed classification report\n",
    "print(\"\\nClassification Report:\")\n",
    "print(classification_report(y_test, y_pred, target_names=['Left Hand', 'Right Hand']))"
   ]
  },
  {
   "cell_type": "markdown",
   "metadata": {},
   "source": [
    "## 10. Confusion Matrix\n",
    "\n",
    "Visualize which classes are being confused:"
   ]
  },
  {
   "cell_type": "code",
   "execution_count": null,
   "metadata": {},
   "outputs": [],
   "source": [
    "# Compute confusion matrix\n",
    "cm = confusion_matrix(y_test, y_pred)\n",
    "\n",
    "# Plot confusion matrix\n",
    "plt.figure(figsize=(8, 6))\n",
    "sns.heatmap(cm, annot=True, fmt='d', cmap='Blues', \n",
    "            xticklabels=['Left Hand', 'Right Hand'],\n",
    "            yticklabels=['Left Hand', 'Right Hand'])\n",
    "plt.title('Confusion Matrix')\n",
    "plt.ylabel('True Label')\n",
    "plt.xlabel('Predicted Label')\n",
    "plt.show()"
   ]
  },
  {
   "cell_type": "markdown",
   "metadata": {},
   "source": [
    "## 11. Real-Time Simulation\n",
    "\n",
    "Let's simulate real-time decoding for a few seconds:"
   ]
  },
  {
   "cell_type": "code",
   "execution_count": null,
   "metadata": {},
   "outputs": [],
   "source": [
    "import asyncio\n",
    "\n",
    "# Run pipeline in real-time mode for 3 seconds\n",
    "print(\"Running real-time simulation...\")\n",
    "metrics = await pipeline.run(duration=3.0)\n",
    "\n",
    "print(\"\\nReal-Time Metrics:\")\n",
    "print(f\"  Average latency: {metrics.get('latency_ms', 0):.2f} ms\")\n",
    "print(f\"  Throughput: {metrics.get('throughput', 0):.1f} samples/sec\")\n",
    "print(f\"  Predictions made: {metrics.get('n_predictions', 0)}\")"
   ]
  },
  {
   "cell_type": "markdown",
   "metadata": {},
   "source": [
    "## 12. Model Comparison (Bonus)\n",
    "\n",
    "Let's compare different classifier types:"
   ]
  },
  {
   "cell_type": "code",
   "execution_count": null,
   "metadata": {},
   "outputs": [],
   "source": [
    "from neuros.models.simple_classifier import SimpleClassifier\n",
    "\n",
    "# Test different models\n",
    "model_types = ['svm', 'random_forest', 'mlp']\n",
    "results = {}\n",
    "\n",
    "for model_type in model_types:\n",
    "    print(f\"\\nTesting {model_type.upper()}...\")\n",
    "    \n",
    "    # Create and train model\n",
    "    model = SimpleClassifier(model_type=model_type, n_classes=2)\n",
    "    pipeline = Pipeline(driver=driver, model=model)\n",
    "    pipeline.train(X_train, y_train)\n",
    "    \n",
    "    # Evaluate\n",
    "    y_pred = pipeline.predict(X_test)\n",
    "    acc = accuracy_score(y_test, y_pred)\n",
    "    results[model_type] = acc\n",
    "    print(f\"  Accuracy: {acc:.2%}\")\n",
    "\n",
    "# Plot comparison\n",
    "plt.figure(figsize=(10, 6))\n",
    "plt.bar(results.keys(), results.values())\n",
    "plt.ylim([0, 1])\n",
    "plt.ylabel('Accuracy')\n",
    "plt.title('Model Comparison')\n",
    "plt.axhline(y=0.5, color='r', linestyle='--', label='Chance level')\n",
    "plt.legend()\n",
    "plt.show()\n",
    "\n",
    "print(f\"\\nBest model: {max(results, key=results.get)} ({max(results.values()):.2%})\")"
   ]
  },
  {
   "cell_type": "markdown",
   "metadata": {},
   "source": [
    "## 13. Save Your Model\n",
    "\n",
    "Save the trained model for later use:"
   ]
  },
  {
   "cell_type": "code",
   "execution_count": null,
   "metadata": {},
   "outputs": [],
   "source": [
    "import pickle\n",
    "from pathlib import Path\n",
    "\n",
    "# Create models directory\n",
    "models_dir = Path('models')\n",
    "models_dir.mkdir(exist_ok=True)\n",
    "\n",
    "# Save model\n",
    "model_path = models_dir / 'motor_imagery_classifier.pkl'\n",
    "with open(model_path, 'wb') as f:\n",
    "    pickle.dump(pipeline.model, f)\n",
    "\n",
    "print(f\"✓ Model saved to {model_path}\")"
   ]
  },
  {
   "cell_type": "markdown",
   "metadata": {},
   "source": [
    "## 14. Load and Use Saved Model\n",
    "\n",
    "Load the model and make predictions:"
   ]
  },
  {
   "cell_type": "code",
   "execution_count": null,
   "metadata": {},
   "outputs": [],
   "source": [
    "# Load saved model\n",
    "with open(model_path, 'rb') as f:\n",
    "    loaded_model = pickle.load(f)\n",
    "\n",
    "# Create new pipeline with loaded model\n",
    "new_pipeline = Pipeline(driver=driver, model=loaded_model)\n",
    "\n",
    "# Make predictions\n",
    "y_pred_loaded = new_pipeline.predict(X_test)\n",
    "acc_loaded = accuracy_score(y_test, y_pred_loaded)\n",
    "\n",
    "print(f\"Loaded model accuracy: {acc_loaded:.2%}\")\n",
    "print(\"✓ Model successfully loaded and tested!\")"
   ]
  },
  {
   "cell_type": "markdown",
   "metadata": {},
   "source": [
    "## Summary\n",
    "\n",
    "Congratulations! You've completed Tutorial 1. Here's what you learned:\n",
    "\n",
    "✅ How to install and import NeurOS  \n",
    "✅ Loading and visualizing neural data  \n",
    "✅ Creating a Pipeline with Driver and Model  \n",
    "✅ Training a classifier  \n",
    "✅ Making predictions and evaluating performance  \n",
    "✅ Running real-time simulations  \n",
    "✅ Comparing different models  \n",
    "✅ Saving and loading trained models  \n",
    "\n",
    "## Next Steps\n",
    "\n",
    "- **Tutorial 2**: Foundation Models Showcase - Learn about advanced pretrained models\n",
    "- **Tutorial 3**: Multi-Modal Processing - Work with multiple data streams\n",
    "- **Tutorial 4**: Custom Models - Build your own neural decoders\n",
    "\n",
    "## Exercises\n",
    "\n",
    "Try these challenges to deepen your understanding:\n",
    "\n",
    "1. **Change the number of classes**: Modify the data loader to use 3 or 4 classes\n",
    "2. **Tune hyperparameters**: Experiment with different SVM kernels or Random Forest parameters\n",
    "3. **Add preprocessing**: Implement bandpass filtering or normalization\n",
    "4. **Cross-validation**: Use k-fold cross-validation to get more robust accuracy estimates\n",
    "5. **Feature importance**: Visualize which features are most important for classification\n",
    "\n",
    "Happy coding! 🧠🚀"
   ]
  }
 ],
 "metadata": {
  "kernelspec": {
   "display_name": "Python 3",
   "language": "python",
   "name": "python3"
  },
  "language_info": {
   "codemirror_mode": {
    "name": "ipython",
    "version": 3
   },
   "file_extension": ".py",
   "mimetype": "text/x-python",
   "name": "python",
   "nbconvert_exporter": "python",
   "pygments_lexer": "ipython3",
   "version": "3.9.0"
  }
 },
 "nbformat": 4,
 "nbformat_minor": 4
}
