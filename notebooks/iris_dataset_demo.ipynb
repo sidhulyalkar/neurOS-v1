{
 "cells": [
  {
   "cell_type": "markdown",
   "id": "1d265384",
   "metadata": {},
   "source": [
    "# neurOS Demo: iris dataset\n",
    "\n",
    "This notebook demonstrates how to set up, train and run a neurOS pipeline for the specified task using the auto‑configuration module. The pipeline is trained on synthetic or dataset data and executed for a short duration. The resulting metrics are displayed for reference."
   ]
  },
  {
   "cell_type": "code",
   "execution_count": null,
   "id": "b4456074",
   "metadata": {},
   "outputs": [],
   "source": [
    "from neuros.autoconfig import generate_pipeline_for_task\n",
    "import asyncio\n",
    "\n",
    "# create pipeline for the task\n",
    "pipeline = generate_pipeline_for_task('iris dataset', use_brainflow=False)\n",
    "\n",
    "# generate training data (this uses neurOS internals for convenience)\n",
    "import numpy as np\n",
    "def _generate_training_data(driver, n_samples=200):\n",
    "    if hasattr(driver, 'data') and hasattr(driver, 'labels'):\n",
    "        return np.asarray(driver.data), np.asarray(driver.labels)\n",
    "    X = np.random.randn(n_samples, driver.channels * 5)\n",
    "    y = np.random.randint(0, 2, size=n_samples)\n",
    "    return X, y\n",
    "\n",
    "X_train, y_train = _generate_training_data(pipeline.driver)\n",
    "pipeline.train(X_train, y_train)\n",
    "\n",
    "# run the pipeline asynchronously\n",
    "async def _run():\n",
    "    metrics = await pipeline.run(duration=1.0)\n",
    "    return metrics\n",
    "\n",
    "metrics = asyncio.run(_run())\n",
    "metrics"
   ]
  },
  {
   "cell_type": "markdown",
   "id": "659f4326",
   "metadata": {},
   "source": [
    "## Example Results\n",
    "\n",
    "The following metrics were captured when this notebook was generated:\n",
    "\n",
    "``\n",
    "{'duration': 1.0012791156768799, 'samples': 150, 'throughput': 149.80837775548503, 'mean_latency': 0.0029354683558146157, 'quality_mean': 0.0, 'quality_std': 0.0, 'model': 'RandomForestModel', 'driver': 'DatasetDriver'}\n",
    "```"
   ]
  }
 ],
 "metadata": {},
 "nbformat": 4,
 "nbformat_minor": 5
}
